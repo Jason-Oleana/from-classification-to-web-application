{
 "cells": [
  {
   "cell_type": "markdown",
   "metadata": {},
   "source": []
  },
  {
   "cell_type": "markdown",
   "metadata": {},
   "source": [
    "# Step 1: Open Tweets.csv & extract features and labels"
   ]
  },
  {
   "cell_type": "code",
   "execution_count": 1,
   "metadata": {},
   "outputs": [
    {
     "name": "stdout",
     "output_type": "stream",
     "text": [
      "C:\\Users\\voice\\ml_webapp\n"
     ]
    }
   ],
   "source": [
    "import os\n",
    "ROOT_DIR = os.path.dirname(os.path.abspath(\"__file__\")) # Project Root\n",
    "print(ROOT_DIR)"
   ]
  },
  {
   "cell_type": "code",
   "execution_count": 2,
   "metadata": {},
   "outputs": [],
   "source": [
    "import numpy\n",
    "import csv\n",
    "\n",
    "def TweetExtractor(csv_file):\n",
    "    tweets = []\n",
    "    labels = []\n",
    "    with open(csv_file, encoding='utf-8') as csv_file:\n",
    "        csv_reader = csv.reader(csv_file, delimiter=',')\n",
    "        try:\n",
    "            for index, row in enumerate(csv_reader):\n",
    "                if index > 0:\n",
    "                    sentiment = row[1]\n",
    "                    sentiment_conf = float(row[2])\n",
    "                    transcript = row[10]\n",
    "                    if sentiment_conf >= 0.80:\n",
    "                        tweets.append(transcript)\n",
    "                        labels.append(sentiment)\n",
    "                    else:\n",
    "                        (\"low conf\")\n",
    "                    \n",
    "                else:\n",
    "                    pass\n",
    "        except Exception as e:\n",
    "            print(\"Exception: {}\".format(e))\n",
    "        \n",
    "    tweets = numpy.array(tweets)\n",
    "    labels = numpy.array(labels)\n",
    "    \n",
    "    return tweets, labels\n",
    "\n",
    "tweets, labels = TweetExtractor(ROOT_DIR + \"/dataset/Tweets.csv\")"
   ]
  },
  {
   "cell_type": "markdown",
   "metadata": {},
   "source": [
    "# Plot label distribution"
   ]
  },
  {
   "cell_type": "code",
   "execution_count": 3,
   "metadata": {},
   "outputs": [
    {
     "name": "stdout",
     "output_type": "stream",
     "text": [
      "[7392 1550 1517]\n",
      "['negative' 'neutral' 'positive']\n"
     ]
    },
    {
     "data": {
      "text/plain": [
       "<Figure size 640x480 with 1 Axes>"
      ]
     },
     "metadata": {},
     "output_type": "display_data"
    }
   ],
   "source": [
    "label_dist, label_dist_count = numpy.unique(labels, return_counts = True)\n",
    "label_dist = label_dist.astype(\"str\")\n",
    "\n",
    "print(label_dist_count)\n",
    "print(label_dist)\n",
    "\n",
    "import matplotlib.pyplot as plt\n",
    "fig = plt.figure()\n",
    "ax = fig.add_axes([0,0,1,1])\n",
    "ax.set_ylabel('Count')\n",
    "ax.set_title('Label distribution')\n",
    "ax.bar(label_dist,label_dist_count)\n",
    "plt.show()"
   ]
  },
  {
   "cell_type": "markdown",
   "metadata": {},
   "source": [
    "# Step 2: Remove duplicates"
   ]
  },
  {
   "cell_type": "code",
   "execution_count": 4,
   "metadata": {},
   "outputs": [],
   "source": [
    "def DuplicateRemover(tweets, labels):\n",
    "    \n",
    "    # index_list = List of all unique indexes in tweets list\n",
    "    __, index_list = numpy.unique(tweets, return_index=True, axis = 0)\n",
    "    \n",
    "    # Set empty lists for unique tweets(tweet + label)\n",
    "    unique_tweets = []\n",
    "    unique_labels = []\n",
    "\n",
    "    for index, (transcript, label) in enumerate(zip(tweets, labels)):\n",
    "\n",
    "        # if index in index_list\n",
    "        if index in index_list:\n",
    "            unique_tweets.append(transcript)\n",
    "            unique_labels.append(label)\n",
    "\n",
    "        else:\n",
    "            pass\n",
    "\n",
    "    unique_tweets = numpy.array(unique_tweets)\n",
    "    unique_labels = numpy.array(unique_labels)\n",
    "    \n",
    "    return unique_tweets, unique_labels\n",
    "\n",
    "unique_tweets, unique_labels = DuplicateRemover(tweets, labels)"
   ]
  },
  {
   "cell_type": "markdown",
   "metadata": {},
   "source": [
    "# Step 3: Clean tweets\n",
    "- lowercase\n",
    "- remove punctuations\n",
    "- remove white spaces"
   ]
  },
  {
   "cell_type": "code",
   "execution_count": 5,
   "metadata": {},
   "outputs": [
    {
     "name": "stdout",
     "output_type": "stream",
     "text": [
      "training phrase example after data cleaning: \n",
      "virginamerica its really aggressive to blast obnoxious entertainment in your guests faces amp they have little recourse\n"
     ]
    }
   ],
   "source": [
    "import string\n",
    "import re \n",
    "\n",
    "def processor(X_data_array):\n",
    "    clean_data_array = []\n",
    "    for sentence in X_data_array:\n",
    "        # Lowercase\n",
    "        sentence = sentence.lower()\n",
    "        \n",
    "        # Remove punctuations\n",
    "        sentence = sentence.translate(str.maketrans('', '', string.punctuation))\n",
    "        \n",
    "        # Remove white spaces\n",
    "        sentence = re.sub(' +', ' ',sentence).strip()\n",
    "        \n",
    "        # Append cleaned sentences\n",
    "        clean_data_array.append(sentence)\n",
    "\n",
    "    clean_data_array = numpy.array(clean_data_array)\n",
    "    return clean_data_array\n",
    "\n",
    "\n",
    "unique_tweets = processor(unique_tweets)\n",
    "\n",
    "print(\"training phrase example after data cleaning: \\n{}\".format(unique_tweets[1]))"
   ]
  },
  {
   "cell_type": "markdown",
   "metadata": {},
   "source": [
    "# Step 4: TF-IDF Vectorizer"
   ]
  },
  {
   "cell_type": "code",
   "execution_count": 6,
   "metadata": {},
   "outputs": [],
   "source": [
    "from sklearn.feature_extraction.text import TfidfVectorizer\n",
    "vectorizer = TfidfVectorizer(max_features=5000)\n",
    "vectorizer = vectorizer.fit(unique_tweets)\n",
    "train_features = vectorizer.transform(unique_tweets)\n",
    "train_features = train_features.toarray()"
   ]
  },
  {
   "cell_type": "markdown",
   "metadata": {},
   "source": [
    "# Save fitted vectorizer to disk"
   ]
  },
  {
   "cell_type": "code",
   "execution_count": 7,
   "metadata": {},
   "outputs": [],
   "source": [
    "import pickle\n",
    "\n",
    "filename = 'TFIDF_Vectorizer'\n",
    "pickle.dump(vectorizer, open(ROOT_DIR + \"/app/processors/\" + filename, 'wb'))"
   ]
  },
  {
   "cell_type": "markdown",
   "metadata": {},
   "source": [
    "# Checkpoint "
   ]
  },
  {
   "cell_type": "code",
   "execution_count": 8,
   "metadata": {},
   "outputs": [
    {
     "name": "stdout",
     "output_type": "stream",
     "text": [
      "shape of train_features: (10356, 5000)\n",
      "example of vectorized training data: [0. 0. 0. ... 0. 0. 0.]\n"
     ]
    }
   ],
   "source": [
    "print(\"shape of train_features: {}\".format(train_features.shape))\n",
    "print(\"example of vectorized training data: {}\".format(train_features[0]))"
   ]
  },
  {
   "cell_type": "markdown",
   "metadata": {},
   "source": [
    "# Step 5: Split data in train and test"
   ]
  },
  {
   "cell_type": "code",
   "execution_count": 9,
   "metadata": {},
   "outputs": [],
   "source": [
    "from sklearn.model_selection import train_test_split\n",
    "x_train, x_val, y_train, y_val = train_test_split(train_features, unique_labels, \n",
    "                                                  test_size = 0.20, \n",
    "                                                  random_state = 1, \n",
    "                                                  stratify = unique_labels)"
   ]
  },
  {
   "cell_type": "markdown",
   "metadata": {},
   "source": [
    "# Step 6: Classification algorithms"
   ]
  },
  {
   "cell_type": "markdown",
   "metadata": {},
   "source": [
    "# SVM model"
   ]
  },
  {
   "cell_type": "code",
   "execution_count": 11,
   "metadata": {},
   "outputs": [
    {
     "name": "stdout",
     "output_type": "stream",
     "text": [
      "0.8798262548262549\n"
     ]
    }
   ],
   "source": [
    "from sklearn.svm import SVC\n",
    "from sklearn.metrics import accuracy_score\n",
    "\n",
    "clf = SVC(kernel='linear', probability=True)\n",
    "clf.fit(x_train,y_train)\n",
    "y_pred = clf.predict(x_val)\n",
    "print(accuracy_score(y_val,y_pred))"
   ]
  },
  {
   "cell_type": "markdown",
   "metadata": {},
   "source": [
    "# Model evaluation"
   ]
  },
  {
   "cell_type": "code",
   "execution_count": 12,
   "metadata": {},
   "outputs": [
    {
     "name": "stdout",
     "output_type": "stream",
     "text": [
      "              precision    recall  f1-score   support\n",
      "\n",
      "    negative       0.90      0.97      0.93      1466\n",
      "     neutral       0.75      0.62      0.68       308\n",
      "    positive       0.91      0.73      0.81       298\n",
      "\n",
      "    accuracy                           0.88      2072\n",
      "   macro avg       0.85      0.77      0.81      2072\n",
      "weighted avg       0.88      0.88      0.87      2072\n",
      "\n",
      "[[1415   41   10]\n",
      " [ 107  190   11]\n",
      " [  58   22  218]]\n",
      "\n",
      "0.8798262548262549\n"
     ]
    }
   ],
   "source": [
    "from sklearn.metrics import classification_report, confusion_matrix, accuracy_score\n",
    "\n",
    "print(classification_report(y_val,y_pred))\n",
    "print(confusion_matrix(y_val,y_pred))\n",
    "print()\n",
    "print(accuracy_score(y_val,y_pred))"
   ]
  },
  {
   "cell_type": "markdown",
   "metadata": {},
   "source": [
    "# Save model to disk"
   ]
  },
  {
   "cell_type": "code",
   "execution_count": 13,
   "metadata": {},
   "outputs": [],
   "source": [
    "filename = 'SVM_model_tfidf'\n",
    "pickle.dump(clf, open(ROOT_DIR + \"/app/models/\" + filename, 'wb'))"
   ]
  }
 ],
 "metadata": {
  "kernelspec": {
   "display_name": "Python 3",
   "language": "python",
   "name": "python3"
  },
  "language_info": {
   "codemirror_mode": {
    "name": "ipython",
    "version": 3
   },
   "file_extension": ".py",
   "mimetype": "text/x-python",
   "name": "python",
   "nbconvert_exporter": "python",
   "pygments_lexer": "ipython3",
   "version": "3.7.0"
  }
 },
 "nbformat": 4,
 "nbformat_minor": 4
}
